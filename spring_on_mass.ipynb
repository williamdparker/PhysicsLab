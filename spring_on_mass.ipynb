{
 "cells": [
  {
   "cell_type": "markdown",
   "source": [
    "# Spring Constant from Displacement and Mass\n",
    "\n",
    "$\\sum F = -k \\Delta y - m g = 0 \\Rightarrow k = -\\frac{m g}{\\Delta y} \\Rightarrow g = -\\frac{k \\Delta y}{m}$"
   ],
   "metadata": {
    "collapsed": false,
    "pycharm": {
     "name": "#%% md\n"
    }
   }
  },
  {
   "cell_type": "code",
   "execution_count": 28,
   "outputs": [
    {
     "name": "stdout",
     "output_type": "stream",
     "text": [
      "k[0.465 kg, -0.041 m] = 111.2 N/m\t\tg_calculated = 2.866 m/s/s\n",
      "k[0.630 kg, -0.092 m] =  67.1 N/m\t\tg_calculated = 4.749 m/s/s\n",
      "k[0.825 kg, -0.155 m] =  52.2 N/m\t\tg_calculated = 6.107 m/s/s\n",
      "k[1.055 kg, -0.217 m] =  47.7 N/m\t\tg_calculated = 6.685 m/s/s\n"
     ]
    }
   ],
   "source": [
    "# masses = [0.4649, 0.6296, 0.7598, 0.8249]\n",
    "masses = [0.4649, 0.6296, 0.8249, 1.055]\n",
    "gravitational_acceleration = 9.80309826\n",
    "expected_spring_constant = 32.5\n",
    "\n",
    "initial_positions = [0.418, 0.418, 0.421, 0.418]\n",
    "final_positions = [0.377, 0.326, 0.266, 0.201]\n",
    "\n",
    "for mass, initial_position, final_position in zip(masses, initial_positions, final_positions):\n",
    "    displacement = final_position - initial_position\n",
    "    spring_constant = -mass * gravitational_acceleration / displacement\n",
    "    projected_gravitational_acceleration = -expected_spring_constant * displacement / mass\n",
    "    print(f'k[{mass:.3f} kg, {displacement:.3f} m] = {spring_constant:5.1f} N/m' + '\\t\\t' + f'g_calculated = {projected_gravitational_acceleration:.3f} m/s/s')\n",
    "\n"
   ],
   "metadata": {
    "collapsed": false,
    "pycharm": {
     "name": "#%%\n"
    }
   }
  },
  {
   "cell_type": "markdown",
   "source": [
    "# Mass from Period and Spring Constant"
   ],
   "metadata": {
    "collapsed": false,
    "pycharm": {
     "name": "#%% md\n"
    }
   }
  },
  {
   "cell_type": "code",
   "execution_count": 12,
   "outputs": [
    {
     "name": "stdout",
     "output_type": "stream",
     "text": [
      "T = 0.875 s\n",
      "m = 0.630 kg\n"
     ]
    }
   ],
   "source": [
    "from numpy import pi\n",
    "\n",
    "\n",
    "spring_constant = 32.5  # N/m\n",
    "period = (1+0.75)/2  # s\n",
    "print(f'T = {period:.3f} s')\n",
    "mass = period**2 * spring_constant / (4 * pi**2)\n",
    "print(f'm = {mass:.3f} kg')\n"
   ],
   "metadata": {
    "collapsed": false,
    "pycharm": {
     "name": "#%%\n"
    }
   }
  },
  {
   "cell_type": "markdown",
   "source": [
    "# Spring Constant from Period and Mass\n",
    "\n",
    "$T = 2 \\pi \\sqrt{\\frac{m}{k}} \\Rightarrow k = \\frac{4 \\pi^2}{T^2} m$"
   ],
   "metadata": {
    "collapsed": false,
    "pycharm": {
     "name": "#%% md\n"
    }
   }
  },
  {
   "cell_type": "code",
   "execution_count": 29,
   "outputs": [
    {
     "name": "stdout",
     "output_type": "stream",
     "text": [
      "k[0.465 kg, 0.754 s] = 32.3 N/m\n",
      "k[0.630 kg, 0.876 s] = 32.4 N/m\n",
      "k[0.760 kg, 0.961 s] = 32.5 N/m\n",
      "k[0.825 kg, 1.000 s] = 32.6 N/m\n",
      "k[1.055 kg, 1.130 s] = 32.6 N/m\n"
     ]
    }
   ],
   "source": [
    "from numpy import pi\n",
    "\n",
    "\n",
    "periods = [0.754, 0.876, 0.961, 1.00, 1.13]  # s\n",
    "masses = [0.4649, 0.6296, 0.7598, 0.8249, 1.055]  # kg\n",
    "for mass, period in zip(masses, periods):\n",
    "    spring_constant = 4 * pi**2 * mass / period**2\n",
    "    print(f'k[{mass:.3f} kg, {period:.3f} s] = {spring_constant:.1f} N/m')\n",
    "\n"
   ],
   "metadata": {
    "collapsed": false,
    "pycharm": {
     "name": "#%%\n"
    }
   }
  },
  {
   "cell_type": "code",
   "execution_count": 27,
   "outputs": [
    {
     "name": "stdout",
     "output_type": "stream",
     "text": [
      "m = 1.0550 kg\n",
      "T = 1.132 s\n"
     ]
    }
   ],
   "source": [
    "from numpy import sqrt\n",
    "\n",
    "\n",
    "half_kilo_masses = [504.5, 500.5]  # g\n",
    "mass_stand = 50.0  # g\n",
    "total_mass = mass_stand + sum(half_kilo_masses)\n",
    "total_mass /= 1000\n",
    "print(f'm = {total_mass:.4f} kg')\n",
    "period = 2*pi*sqrt(total_mass/expected_spring_constant)\n",
    "print(f'T = {period:.3f} s')\n"
   ],
   "metadata": {
    "collapsed": false,
    "pycharm": {
     "name": "#%%\n"
    }
   }
  },
  {
   "cell_type": "code",
   "execution_count": null,
   "outputs": [],
   "source": [],
   "metadata": {
    "collapsed": false,
    "pycharm": {
     "name": "#%%\n"
    }
   }
  }
 ],
 "metadata": {
  "kernelspec": {
   "display_name": "Python 3",
   "language": "python",
   "name": "python3"
  },
  "language_info": {
   "codemirror_mode": {
    "name": "ipython",
    "version": 2
   },
   "file_extension": ".py",
   "mimetype": "text/x-python",
   "name": "python",
   "nbconvert_exporter": "python",
   "pygments_lexer": "ipython2",
   "version": "2.7.6"
  }
 },
 "nbformat": 4,
 "nbformat_minor": 0
}